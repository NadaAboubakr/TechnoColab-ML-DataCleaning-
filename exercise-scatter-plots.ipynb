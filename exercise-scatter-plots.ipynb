{
 "cells": [
  {
   "cell_type": "markdown",
   "id": "2b439fad",
   "metadata": {
    "papermill": {
     "duration": 0.010201,
     "end_time": "2023-04-25T20:20:56.830218",
     "exception": false,
     "start_time": "2023-04-25T20:20:56.820017",
     "status": "completed"
    },
    "tags": []
   },
   "source": [
    "**This notebook is an exercise in the [Data Visualization](https://www.kaggle.com/learn/data-visualization) course.  You can reference the tutorial at [this link](https://www.kaggle.com/alexisbcook/scatter-plots).**\n",
    "\n",
    "---\n"
   ]
  },
  {
   "cell_type": "markdown",
   "id": "138f34bb",
   "metadata": {
    "papermill": {
     "duration": 0.008514,
     "end_time": "2023-04-25T20:20:56.848264",
     "exception": false,
     "start_time": "2023-04-25T20:20:56.839750",
     "status": "completed"
    },
    "tags": []
   },
   "source": [
    "In this exercise, you will use your new knowledge to propose a solution to a real-world scenario.  To succeed, you will need to import data into Python, answer questions using the data, and generate **scatter plots** to understand patterns in the data.\n",
    "\n",
    "## Scenario\n",
    "\n",
    "You work for a major candy producer, and your goal is to write a report that your company can use to guide the design of its next product.  Soon after starting your research, you stumble across this [very interesting dataset](https://fivethirtyeight.com/features/the-ultimate-halloween-candy-power-ranking/) containing results from a fun survey to crowdsource favorite candies.\n",
    "\n",
    "## Setup\n",
    "\n",
    "Run the next cell to import and configure the Python libraries that you need to complete the exercise."
   ]
  },
  {
   "cell_type": "code",
   "execution_count": 1,
   "id": "6c4c60ed",
   "metadata": {
    "execution": {
     "iopub.execute_input": "2023-04-25T20:20:56.868416Z",
     "iopub.status.busy": "2023-04-25T20:20:56.867670Z",
     "iopub.status.idle": "2023-04-25T20:20:58.161619Z",
     "shell.execute_reply": "2023-04-25T20:20:58.160064Z"
    },
    "papermill": {
     "duration": 1.307337,
     "end_time": "2023-04-25T20:20:58.164553",
     "exception": false,
     "start_time": "2023-04-25T20:20:56.857216",
     "status": "completed"
    },
    "tags": []
   },
   "outputs": [
    {
     "name": "stdout",
     "output_type": "stream",
     "text": [
      "Setup Complete\n"
     ]
    }
   ],
   "source": [
    "import pandas as pd\n",
    "pd.plotting.register_matplotlib_converters()\n",
    "import matplotlib.pyplot as plt\n",
    "%matplotlib inline\n",
    "import seaborn as sns\n",
    "print(\"Setup Complete\")"
   ]
  },
  {
   "cell_type": "markdown",
   "id": "470f3e4c",
   "metadata": {
    "papermill": {
     "duration": 0.008746,
     "end_time": "2023-04-25T20:20:58.182458",
     "exception": false,
     "start_time": "2023-04-25T20:20:58.173712",
     "status": "completed"
    },
    "tags": []
   },
   "source": [
    "The questions below will give you feedback on your work. Run the following cell to set up our feedback system."
   ]
  },
  {
   "cell_type": "code",
   "execution_count": 2,
   "id": "bf5a6438",
   "metadata": {
    "execution": {
     "iopub.execute_input": "2023-04-25T20:20:58.202891Z",
     "iopub.status.busy": "2023-04-25T20:20:58.202252Z",
     "iopub.status.idle": "2023-04-25T20:20:58.283986Z",
     "shell.execute_reply": "2023-04-25T20:20:58.282472Z"
    },
    "papermill": {
     "duration": 0.095157,
     "end_time": "2023-04-25T20:20:58.286768",
     "exception": false,
     "start_time": "2023-04-25T20:20:58.191611",
     "status": "completed"
    },
    "tags": []
   },
   "outputs": [
    {
     "name": "stdout",
     "output_type": "stream",
     "text": [
      "Setup Complete\n"
     ]
    }
   ],
   "source": [
    "# Set up code checking\n",
    "import os\n",
    "if not os.path.exists(\"../input/candy.csv\"):\n",
    "    os.symlink(\"../input/data-for-datavis/candy.csv\", \"../input/candy.csv\") \n",
    "from learntools.core import binder\n",
    "binder.bind(globals())\n",
    "from learntools.data_viz_to_coder.ex4 import *\n",
    "print(\"Setup Complete\")"
   ]
  },
  {
   "cell_type": "markdown",
   "id": "957f9e79",
   "metadata": {
    "papermill": {
     "duration": 0.008985,
     "end_time": "2023-04-25T20:20:58.305122",
     "exception": false,
     "start_time": "2023-04-25T20:20:58.296137",
     "status": "completed"
    },
    "tags": []
   },
   "source": [
    "## Step 1: Load the Data\n",
    "\n",
    "Read the candy data file into `candy_data`.  Use the `\"id\"` column to label the rows."
   ]
  },
  {
   "cell_type": "code",
   "execution_count": 3,
   "id": "d70a0584",
   "metadata": {
    "execution": {
     "iopub.execute_input": "2023-04-25T20:20:58.326137Z",
     "iopub.status.busy": "2023-04-25T20:20:58.325437Z",
     "iopub.status.idle": "2023-04-25T20:20:58.340520Z",
     "shell.execute_reply": "2023-04-25T20:20:58.339417Z"
    },
    "papermill": {
     "duration": 0.028858,
     "end_time": "2023-04-25T20:20:58.343124",
     "exception": false,
     "start_time": "2023-04-25T20:20:58.314266",
     "status": "completed"
    },
    "tags": []
   },
   "outputs": [
    {
     "data": {
      "application/javascript": [
       "parent.postMessage({\"jupyterEvent\": \"custom.exercise_interaction\", \"data\": {\"outcomeType\": 1, \"valueTowardsCompletion\": 0.3333333333333333, \"interactionType\": 1, \"questionType\": 1, \"questionId\": \"1_LoadData\", \"learnToolsVersion\": \"0.3.4\", \"failureMessage\": \"\", \"exceptionClass\": \"\", \"trace\": \"\"}}, \"*\")"
      ],
      "text/plain": [
       "<IPython.core.display.Javascript object>"
      ]
     },
     "metadata": {},
     "output_type": "display_data"
    },
    {
     "data": {
      "text/markdown": [
       "<span style=\"color:#33cc33\">Correct</span>"
      ],
      "text/plain": [
       "Correct"
      ]
     },
     "metadata": {},
     "output_type": "display_data"
    }
   ],
   "source": [
    "# Path of the file to read\n",
    "candy_filepath = \"../input/candy.csv\"\n",
    "\n",
    "# Fill in the line below to read the file into a variable candy_data\n",
    "candy_data = pd.read_csv(candy_filepath, index_col= \"id\")\n",
    "\n",
    "# Run the line below with no changes to check that you've loaded the data correctly\n",
    "step_1.check()"
   ]
  },
  {
   "cell_type": "code",
   "execution_count": 4,
   "id": "5da79755",
   "metadata": {
    "execution": {
     "iopub.execute_input": "2023-04-25T20:20:58.365634Z",
     "iopub.status.busy": "2023-04-25T20:20:58.364937Z",
     "iopub.status.idle": "2023-04-25T20:20:58.374172Z",
     "shell.execute_reply": "2023-04-25T20:20:58.372927Z"
    },
    "papermill": {
     "duration": 0.022891,
     "end_time": "2023-04-25T20:20:58.376632",
     "exception": false,
     "start_time": "2023-04-25T20:20:58.353741",
     "status": "completed"
    },
    "tags": []
   },
   "outputs": [
    {
     "data": {
      "application/javascript": [
       "parent.postMessage({\"jupyterEvent\": \"custom.exercise_interaction\", \"data\": {\"interactionType\": 2, \"questionType\": 1, \"questionId\": \"1_LoadData\", \"learnToolsVersion\": \"0.3.4\", \"valueTowardsCompletion\": 0.0, \"failureMessage\": \"\", \"exceptionClass\": \"\", \"trace\": \"\", \"outcomeType\": 4}}, \"*\")"
      ],
      "text/plain": [
       "<IPython.core.display.Javascript object>"
      ]
     },
     "metadata": {},
     "output_type": "display_data"
    },
    {
     "data": {
      "text/markdown": [
       "<span style=\"color:#3366cc\">Hint:</span> Use `pd.read_csv`, and follow it with **two** pieces of text that are enclosed in parentheses and separated by commas.  (1) The filepath for the dataset is provided in `candy_filepath`.  (2) Use the `\"id\"` column to label the rows."
      ],
      "text/plain": [
       "Hint: Use `pd.read_csv`, and follow it with **two** pieces of text that are enclosed in parentheses and separated by commas.  (1) The filepath for the dataset is provided in `candy_filepath`.  (2) Use the `\"id\"` column to label the rows."
      ]
     },
     "metadata": {},
     "output_type": "display_data"
    }
   ],
   "source": [
    "# Lines below will give you a hint or solution code\n",
    "step_1.hint()\n",
    "#step_1.solution()"
   ]
  },
  {
   "cell_type": "markdown",
   "id": "8720f828",
   "metadata": {
    "papermill": {
     "duration": 0.009687,
     "end_time": "2023-04-25T20:20:58.395927",
     "exception": false,
     "start_time": "2023-04-25T20:20:58.386240",
     "status": "completed"
    },
    "tags": []
   },
   "source": [
    "## Step 2: Review the data\n",
    "\n",
    "Use a Python command to print the first five rows of the data."
   ]
  },
  {
   "cell_type": "code",
   "execution_count": 5,
   "id": "fc16c761",
   "metadata": {
    "execution": {
     "iopub.execute_input": "2023-04-25T20:20:58.417355Z",
     "iopub.status.busy": "2023-04-25T20:20:58.416706Z",
     "iopub.status.idle": "2023-04-25T20:20:58.449634Z",
     "shell.execute_reply": "2023-04-25T20:20:58.448676Z"
    },
    "papermill": {
     "duration": 0.046712,
     "end_time": "2023-04-25T20:20:58.452385",
     "exception": false,
     "start_time": "2023-04-25T20:20:58.405673",
     "status": "completed"
    },
    "tags": []
   },
   "outputs": [
    {
     "data": {
      "text/html": [
       "<div>\n",
       "<style scoped>\n",
       "    .dataframe tbody tr th:only-of-type {\n",
       "        vertical-align: middle;\n",
       "    }\n",
       "\n",
       "    .dataframe tbody tr th {\n",
       "        vertical-align: top;\n",
       "    }\n",
       "\n",
       "    .dataframe thead th {\n",
       "        text-align: right;\n",
       "    }\n",
       "</style>\n",
       "<table border=\"1\" class=\"dataframe\">\n",
       "  <thead>\n",
       "    <tr style=\"text-align: right;\">\n",
       "      <th></th>\n",
       "      <th>competitorname</th>\n",
       "      <th>chocolate</th>\n",
       "      <th>fruity</th>\n",
       "      <th>caramel</th>\n",
       "      <th>peanutyalmondy</th>\n",
       "      <th>nougat</th>\n",
       "      <th>crispedricewafer</th>\n",
       "      <th>hard</th>\n",
       "      <th>bar</th>\n",
       "      <th>pluribus</th>\n",
       "      <th>sugarpercent</th>\n",
       "      <th>pricepercent</th>\n",
       "      <th>winpercent</th>\n",
       "    </tr>\n",
       "    <tr>\n",
       "      <th>id</th>\n",
       "      <th></th>\n",
       "      <th></th>\n",
       "      <th></th>\n",
       "      <th></th>\n",
       "      <th></th>\n",
       "      <th></th>\n",
       "      <th></th>\n",
       "      <th></th>\n",
       "      <th></th>\n",
       "      <th></th>\n",
       "      <th></th>\n",
       "      <th></th>\n",
       "      <th></th>\n",
       "    </tr>\n",
       "  </thead>\n",
       "  <tbody>\n",
       "    <tr>\n",
       "      <th>0</th>\n",
       "      <td>100 Grand</td>\n",
       "      <td>Yes</td>\n",
       "      <td>No</td>\n",
       "      <td>Yes</td>\n",
       "      <td>No</td>\n",
       "      <td>No</td>\n",
       "      <td>Yes</td>\n",
       "      <td>No</td>\n",
       "      <td>Yes</td>\n",
       "      <td>No</td>\n",
       "      <td>0.732</td>\n",
       "      <td>0.860</td>\n",
       "      <td>66.971725</td>\n",
       "    </tr>\n",
       "    <tr>\n",
       "      <th>1</th>\n",
       "      <td>3 Musketeers</td>\n",
       "      <td>Yes</td>\n",
       "      <td>No</td>\n",
       "      <td>No</td>\n",
       "      <td>No</td>\n",
       "      <td>Yes</td>\n",
       "      <td>No</td>\n",
       "      <td>No</td>\n",
       "      <td>Yes</td>\n",
       "      <td>No</td>\n",
       "      <td>0.604</td>\n",
       "      <td>0.511</td>\n",
       "      <td>67.602936</td>\n",
       "    </tr>\n",
       "    <tr>\n",
       "      <th>2</th>\n",
       "      <td>Air Heads</td>\n",
       "      <td>No</td>\n",
       "      <td>Yes</td>\n",
       "      <td>No</td>\n",
       "      <td>No</td>\n",
       "      <td>No</td>\n",
       "      <td>No</td>\n",
       "      <td>No</td>\n",
       "      <td>No</td>\n",
       "      <td>No</td>\n",
       "      <td>0.906</td>\n",
       "      <td>0.511</td>\n",
       "      <td>52.341465</td>\n",
       "    </tr>\n",
       "    <tr>\n",
       "      <th>3</th>\n",
       "      <td>Almond Joy</td>\n",
       "      <td>Yes</td>\n",
       "      <td>No</td>\n",
       "      <td>No</td>\n",
       "      <td>Yes</td>\n",
       "      <td>No</td>\n",
       "      <td>No</td>\n",
       "      <td>No</td>\n",
       "      <td>Yes</td>\n",
       "      <td>No</td>\n",
       "      <td>0.465</td>\n",
       "      <td>0.767</td>\n",
       "      <td>50.347546</td>\n",
       "    </tr>\n",
       "    <tr>\n",
       "      <th>4</th>\n",
       "      <td>Baby Ruth</td>\n",
       "      <td>Yes</td>\n",
       "      <td>No</td>\n",
       "      <td>Yes</td>\n",
       "      <td>Yes</td>\n",
       "      <td>Yes</td>\n",
       "      <td>No</td>\n",
       "      <td>No</td>\n",
       "      <td>Yes</td>\n",
       "      <td>No</td>\n",
       "      <td>0.604</td>\n",
       "      <td>0.767</td>\n",
       "      <td>56.914547</td>\n",
       "    </tr>\n",
       "  </tbody>\n",
       "</table>\n",
       "</div>"
      ],
      "text/plain": [
       "   competitorname chocolate fruity caramel peanutyalmondy nougat  \\\n",
       "id                                                                 \n",
       "0       100 Grand       Yes     No     Yes             No     No   \n",
       "1    3 Musketeers       Yes     No      No             No    Yes   \n",
       "2       Air Heads        No    Yes      No             No     No   \n",
       "3      Almond Joy       Yes     No      No            Yes     No   \n",
       "4       Baby Ruth       Yes     No     Yes            Yes    Yes   \n",
       "\n",
       "   crispedricewafer hard  bar pluribus  sugarpercent  pricepercent  winpercent  \n",
       "id                                                                              \n",
       "0               Yes   No  Yes       No         0.732         0.860   66.971725  \n",
       "1                No   No  Yes       No         0.604         0.511   67.602936  \n",
       "2                No   No   No       No         0.906         0.511   52.341465  \n",
       "3                No   No  Yes       No         0.465         0.767   50.347546  \n",
       "4                No   No  Yes       No         0.604         0.767   56.914547  "
      ]
     },
     "execution_count": 5,
     "metadata": {},
     "output_type": "execute_result"
    }
   ],
   "source": [
    "# Print the first five rows of the data\n",
    "candy_data.head()"
   ]
  },
  {
   "cell_type": "markdown",
   "id": "823af16f",
   "metadata": {
    "papermill": {
     "duration": 0.01027,
     "end_time": "2023-04-25T20:20:58.473448",
     "exception": false,
     "start_time": "2023-04-25T20:20:58.463178",
     "status": "completed"
    },
    "tags": []
   },
   "source": [
    "The dataset contains 83 rows, where each corresponds to a different candy bar.  There are 13 columns:\n",
    "- `'competitorname'` contains the name of the candy bar. \n",
    "- the next **9** columns (from `'chocolate'` to `'pluribus'`) describe the candy.  For instance, rows with chocolate candies have `\"Yes\"` in the `'chocolate'` column (and candies without chocolate have `\"No\"` in the same column).\n",
    "- `'sugarpercent'` provides some indication of the amount of sugar, where higher values signify higher sugar content.\n",
    "- `'pricepercent'` shows the price per unit, relative to the other candies in the dataset.\n",
    "- `'winpercent'` is calculated from the survey results; higher values indicate that the candy was more popular with survey respondents.\n",
    "\n",
    "Use the first five rows of the data to answer the questions below."
   ]
  },
  {
   "cell_type": "code",
   "execution_count": 6,
   "id": "b695c361",
   "metadata": {
    "execution": {
     "iopub.execute_input": "2023-04-25T20:20:58.496813Z",
     "iopub.status.busy": "2023-04-25T20:20:58.495519Z",
     "iopub.status.idle": "2023-04-25T20:20:58.506575Z",
     "shell.execute_reply": "2023-04-25T20:20:58.505451Z"
    },
    "papermill": {
     "duration": 0.025313,
     "end_time": "2023-04-25T20:20:58.508994",
     "exception": false,
     "start_time": "2023-04-25T20:20:58.483681",
     "status": "completed"
    },
    "tags": []
   },
   "outputs": [
    {
     "data": {
      "application/javascript": [
       "parent.postMessage({\"jupyterEvent\": \"custom.exercise_interaction\", \"data\": {\"outcomeType\": 1, \"valueTowardsCompletion\": 0.3333333333333333, \"interactionType\": 1, \"questionType\": 1, \"questionId\": \"2_ReviewData\", \"learnToolsVersion\": \"0.3.4\", \"failureMessage\": \"\", \"exceptionClass\": \"\", \"trace\": \"\"}}, \"*\")"
      ],
      "text/plain": [
       "<IPython.core.display.Javascript object>"
      ]
     },
     "metadata": {},
     "output_type": "display_data"
    },
    {
     "data": {
      "text/markdown": [
       "<span style=\"color:#33cc33\">Correct</span>"
      ],
      "text/plain": [
       "Correct"
      ]
     },
     "metadata": {},
     "output_type": "display_data"
    }
   ],
   "source": [
    "# Fill in the line below: Which candy was more popular with survey respondents:\n",
    "# '3 Musketeers' or 'Almond Joy'?  (Please enclose your answer in single quotes.)\n",
    "more_popular = '3 Musketeers'\n",
    "\n",
    "# Fill in the line below: Which candy has higher sugar content: 'Air Heads'\n",
    "# or 'Baby Ruth'? (Please enclose your answer in single quotes.)\n",
    "more_sugar = 'Air Heads'\n",
    "\n",
    "# Check your answers\n",
    "step_2.check()"
   ]
  },
  {
   "cell_type": "code",
   "execution_count": 7,
   "id": "8d15ba6a",
   "metadata": {
    "execution": {
     "iopub.execute_input": "2023-04-25T20:20:58.531404Z",
     "iopub.status.busy": "2023-04-25T20:20:58.530705Z",
     "iopub.status.idle": "2023-04-25T20:20:58.535299Z",
     "shell.execute_reply": "2023-04-25T20:20:58.534452Z"
    },
    "papermill": {
     "duration": 0.01859,
     "end_time": "2023-04-25T20:20:58.537666",
     "exception": false,
     "start_time": "2023-04-25T20:20:58.519076",
     "status": "completed"
    },
    "tags": []
   },
   "outputs": [],
   "source": [
    "# Lines below will give you a hint or solution code\n",
    "#step_2.hint()\n",
    "#step_2.solution()"
   ]
  },
  {
   "cell_type": "markdown",
   "id": "7e219711",
   "metadata": {
    "papermill": {
     "duration": 0.00966,
     "end_time": "2023-04-25T20:20:58.557342",
     "exception": false,
     "start_time": "2023-04-25T20:20:58.547682",
     "status": "completed"
    },
    "tags": []
   },
   "source": [
    "## Step 3: The role of sugar\n",
    "\n",
    "Do people tend to prefer candies with higher sugar content?  \n",
    "\n",
    "#### Part A\n",
    "\n",
    "Create a scatter plot that shows the relationship between `'sugarpercent'` (on the horizontal x-axis) and `'winpercent'` (on the vertical y-axis).  _Don't add a regression line just yet -- you'll do that in the next step!_"
   ]
  },
  {
   "cell_type": "code",
   "execution_count": 8,
   "id": "e38db81f",
   "metadata": {
    "execution": {
     "iopub.execute_input": "2023-04-25T20:20:58.580686Z",
     "iopub.status.busy": "2023-04-25T20:20:58.580020Z",
     "iopub.status.idle": "2023-04-25T20:20:58.904542Z",
     "shell.execute_reply": "2023-04-25T20:20:58.903084Z"
    },
    "papermill": {
     "duration": 0.339289,
     "end_time": "2023-04-25T20:20:58.907433",
     "exception": false,
     "start_time": "2023-04-25T20:20:58.568144",
     "status": "completed"
    },
    "tags": []
   },
   "outputs": [
    {
     "data": {
      "application/javascript": [
       "parent.postMessage({\"jupyterEvent\": \"custom.exercise_interaction\", \"data\": {\"outcomeType\": 1, \"valueTowardsCompletion\": 0.3333333333333333, \"interactionType\": 1, \"questionType\": 2, \"questionId\": \"3.1_PlotBlueScatter\", \"learnToolsVersion\": \"0.3.4\", \"failureMessage\": \"\", \"exceptionClass\": \"\", \"trace\": \"\"}}, \"*\")"
      ],
      "text/plain": [
       "<IPython.core.display.Javascript object>"
      ]
     },
     "metadata": {},
     "output_type": "display_data"
    },
    {
     "data": {
      "text/markdown": [
       "<span style=\"color:#33cc33\">Correct</span>"
      ],
      "text/plain": [
       "Correct"
      ]
     },
     "metadata": {},
     "output_type": "display_data"
    },
    {
     "data": {
      "image/png": "[encoded data removed]",
      "text/plain": [
       "<Figure size 640x480 with 1 Axes>"
      ]
     },
     "metadata": {},
     "output_type": "display_data"
    }
   ],
   "source": [
    "# Scatter plot showing the relationship between 'sugarpercent' and 'winpercent'\n",
    "sns.scatterplot(x=candy_data['sugarpercent'], y=candy_data['winpercent'])\n",
    "# Check your answer\n",
    "step_3.a.check()"
   ]
  },
  {
   "cell_type": "code",
   "execution_count": 9,
   "id": "cf148536",
   "metadata": {
    "execution": {
     "iopub.execute_input": "2023-04-25T20:20:58.940316Z",
     "iopub.status.busy": "2023-04-25T20:20:58.937018Z",
     "iopub.status.idle": "2023-04-25T20:20:58.945205Z",
     "shell.execute_reply": "2023-04-25T20:20:58.943912Z"
    },
    "papermill": {
     "duration": 0.02677,
     "end_time": "2023-04-25T20:20:58.948583",
     "exception": false,
     "start_time": "2023-04-25T20:20:58.921813",
     "status": "completed"
    },
    "tags": []
   },
   "outputs": [],
   "source": [
    "# Lines below will give you a hint or solution code\n",
    "#step_3.a.hint()\n",
    "#step_3.a.solution_plot()"
   ]
  },
  {
   "cell_type": "markdown",
   "id": "48d83195",
   "metadata": {
    "papermill": {
     "duration": 0.012963,
     "end_time": "2023-04-25T20:20:58.978064",
     "exception": false,
     "start_time": "2023-04-25T20:20:58.965101",
     "status": "completed"
    },
    "tags": []
   },
   "source": [
    "#### Part B\n",
    "\n",
    "Does the scatter plot show a **strong** correlation between the two variables?  If so, are candies with more sugar relatively more or less popular with the survey respondents?"
   ]
  },
  {
   "cell_type": "code",
   "execution_count": 10,
   "id": "4c75b312",
   "metadata": {
    "execution": {
     "iopub.execute_input": "2023-04-25T20:20:59.004330Z",
     "iopub.status.busy": "2023-04-25T20:20:59.003307Z",
     "iopub.status.idle": "2023-04-25T20:20:59.009786Z",
     "shell.execute_reply": "2023-04-25T20:20:59.008291Z"
    },
    "papermill": {
     "duration": 0.022286,
     "end_time": "2023-04-25T20:20:59.012930",
     "exception": false,
     "start_time": "2023-04-25T20:20:58.990644",
     "status": "completed"
    },
    "tags": []
   },
   "outputs": [],
   "source": [
    "#step_3.b.hint()"
   ]
  },
  {
   "cell_type": "code",
   "execution_count": 11,
   "id": "95054702",
   "metadata": {
    "execution": {
     "iopub.execute_input": "2023-04-25T20:20:59.047012Z",
     "iopub.status.busy": "2023-04-25T20:20:59.046161Z",
     "iopub.status.idle": "2023-04-25T20:20:59.054777Z",
     "shell.execute_reply": "2023-04-25T20:20:59.053572Z"
    },
    "papermill": {
     "duration": 0.029427,
     "end_time": "2023-04-25T20:20:59.057874",
     "exception": false,
     "start_time": "2023-04-25T20:20:59.028447",
     "status": "completed"
    },
    "tags": []
   },
   "outputs": [
    {
     "data": {
      "application/javascript": [
       "parent.postMessage({\"jupyterEvent\": \"custom.exercise_interaction\", \"data\": {\"interactionType\": 3, \"questionType\": 4, \"questionId\": \"3.2_ThinkBlueScatter\", \"learnToolsVersion\": \"0.3.4\", \"valueTowardsCompletion\": 0.0, \"failureMessage\": \"\", \"exceptionClass\": \"\", \"trace\": \"\", \"outcomeType\": 4}}, \"*\")"
      ],
      "text/plain": [
       "<IPython.core.display.Javascript object>"
      ]
     },
     "metadata": {},
     "output_type": "display_data"
    },
    {
     "data": {
      "text/markdown": [
       "<span style=\"color:#33cc99\">Solution:</span> The scatter plot does not show a strong correlation between the two variables. Since there is no clear relationship between the two variables, this tells us that sugar content does not play a strong role in candy popularity."
      ],
      "text/plain": [
       "Solution: The scatter plot does not show a strong correlation between the two variables. Since there is no clear relationship between the two variables, this tells us that sugar content does not play a strong role in candy popularity."
      ]
     },
     "metadata": {},
     "output_type": "display_data"
    }
   ],
   "source": [
    "# Check your answer (Run this code cell to receive credit!)\n",
    "step_3.b.solution()"
   ]
  },
  {
   "cell_type": "markdown",
   "id": "ded36c96",
   "metadata": {
    "papermill": {
     "duration": 0.010897,
     "end_time": "2023-04-25T20:20:59.085345",
     "exception": false,
     "start_time": "2023-04-25T20:20:59.074448",
     "status": "completed"
    },
    "tags": []
   },
   "source": [
    "## Step 4: Take a closer look\n",
    "\n",
    "#### Part A\n",
    "\n",
    "Create the same scatter plot you created in **Step 3**, but now with a regression line!"
   ]
  },
  {
   "cell_type": "code",
   "execution_count": 12,
   "id": "09bcd84e",
   "metadata": {
    "execution": {
     "iopub.execute_input": "2023-04-25T20:20:59.110634Z",
     "iopub.status.busy": "2023-04-25T20:20:59.109749Z",
     "iopub.status.idle": "2023-04-25T20:20:59.585731Z",
     "shell.execute_reply": "2023-04-25T20:20:59.584393Z"
    },
    "papermill": {
     "duration": 0.492585,
     "end_time": "2023-04-25T20:20:59.589031",
     "exception": false,
     "start_time": "2023-04-25T20:20:59.096446",
     "status": "completed"
    },
    "tags": []
   },
   "outputs": [
    {
     "data": {
      "application/javascript": [
       "parent.postMessage({\"jupyterEvent\": \"custom.exercise_interaction\", \"data\": {\"outcomeType\": 1, \"valueTowardsCompletion\": 0.3333333333333333, \"interactionType\": 1, \"questionType\": 2, \"questionId\": \"4.1_PlotBlueReg\", \"learnToolsVersion\": \"0.3.4\", \"failureMessage\": \"\", \"exceptionClass\": \"\", \"trace\": \"\"}}, \"*\")"
      ],
      "text/plain": [
       "<IPython.core.display.Javascript object>"
      ]
     },
     "metadata": {},
     "output_type": "display_data"
    },
    {
     "data": {
      "text/markdown": [
       "<span style=\"color:#33cc33\">Correct</span>"
      ],
      "text/plain": [
       "Correct"
      ]
     },
     "metadata": {},
     "output_type": "display_data"
    },
    {
     "data": {
      "image/png": "[encoded data removed]",
      "text/plain": [
       "<Figure size 500x500 with 1 Axes>"
      ]
     },
     "metadata": {},
     "output_type": "display_data"
    }
   ],
   "source": [
    "# Scatter plot w/ regression line showing the relationship between 'sugarpercent' and 'winpercent'\n",
    "sns.lmplot(x= \"sugarpercent\", y=\"winpercent\", data= candy_data)\n",
    "# Check your answer\n",
    "step_4.a.check()"
   ]
  },
  {
   "cell_type": "code",
   "execution_count": 13,
   "id": "c9ae26c8",
   "metadata": {
    "execution": {
     "iopub.execute_input": "2023-04-25T20:20:59.619379Z",
     "iopub.status.busy": "2023-04-25T20:20:59.618670Z",
     "iopub.status.idle": "2023-04-25T20:20:59.623813Z",
     "shell.execute_reply": "2023-04-25T20:20:59.622565Z"
    },
    "papermill": {
     "duration": 0.020807,
     "end_time": "2023-04-25T20:20:59.626211",
     "exception": false,
     "start_time": "2023-04-25T20:20:59.605404",
     "status": "completed"
    },
    "tags": []
   },
   "outputs": [],
   "source": [
    "# Lines below will give you a hint or solution code\n",
    "#step_4.a.hint()\n",
    "#step_4.a.solution_plot()"
   ]
  },
  {
   "cell_type": "markdown",
   "id": "fb0ba1a1",
   "metadata": {
    "papermill": {
     "duration": 0.011623,
     "end_time": "2023-04-25T20:20:59.650145",
     "exception": false,
     "start_time": "2023-04-25T20:20:59.638522",
     "status": "completed"
    },
    "tags": []
   },
   "source": [
    "#### Part B\n",
    "\n",
    "According to the plot above, is there a **slight** correlation between `'winpercent'` and `'sugarpercent'`?  What does this tell you about the candy that people tend to prefer?"
   ]
  },
  {
   "cell_type": "code",
   "execution_count": 14,
   "id": "ca46d058",
   "metadata": {
    "execution": {
     "iopub.execute_input": "2023-04-25T20:20:59.675644Z",
     "iopub.status.busy": "2023-04-25T20:20:59.675229Z",
     "iopub.status.idle": "2023-04-25T20:20:59.680330Z",
     "shell.execute_reply": "2023-04-25T20:20:59.679042Z"
    },
    "papermill": {
     "duration": 0.021045,
     "end_time": "2023-04-25T20:20:59.683096",
     "exception": false,
     "start_time": "2023-04-25T20:20:59.662051",
     "status": "completed"
    },
    "tags": []
   },
   "outputs": [],
   "source": [
    "#step_4.b.hint()"
   ]
  },
  {
   "cell_type": "code",
   "execution_count": 15,
   "id": "745337fd",
   "metadata": {
    "execution": {
     "iopub.execute_input": "2023-04-25T20:20:59.708988Z",
     "iopub.status.busy": "2023-04-25T20:20:59.708230Z",
     "iopub.status.idle": "2023-04-25T20:20:59.718507Z",
     "shell.execute_reply": "2023-04-25T20:20:59.717382Z"
    },
    "papermill": {
     "duration": 0.02615,
     "end_time": "2023-04-25T20:20:59.721158",
     "exception": false,
     "start_time": "2023-04-25T20:20:59.695008",
     "status": "completed"
    },
    "tags": []
   },
   "outputs": [
    {
     "data": {
      "application/javascript": [
       "parent.postMessage({\"jupyterEvent\": \"custom.exercise_interaction\", \"data\": {\"interactionType\": 3, \"questionType\": 4, \"questionId\": \"4.2_ThinkBlueReg\", \"learnToolsVersion\": \"0.3.4\", \"valueTowardsCompletion\": 0.0, \"failureMessage\": \"\", \"exceptionClass\": \"\", \"trace\": \"\", \"outcomeType\": 4}}, \"*\")"
      ],
      "text/plain": [
       "<IPython.core.display.Javascript object>"
      ]
     },
     "metadata": {},
     "output_type": "display_data"
    },
    {
     "data": {
      "text/markdown": [
       "<span style=\"color:#33cc99\">Solution:</span> Since the regression line has a slightly positive slope, this tells us that there is a slightly positive correlation between `'winpercent'` and `'sugarpercent'`. Thus, people have a slight preference for candies containing relatively more sugar."
      ],
      "text/plain": [
       "Solution: Since the regression line has a slightly positive slope, this tells us that there is a slightly positive correlation between `'winpercent'` and `'sugarpercent'`. Thus, people have a slight preference for candies containing relatively more sugar."
      ]
     },
     "metadata": {},
     "output_type": "display_data"
    }
   ],
   "source": [
    "# Check your answer (Run this code cell to receive credit!)\n",
    "step_4.b.solution()"
   ]
  },
  {
   "cell_type": "markdown",
   "id": "2080f15a",
   "metadata": {
    "papermill": {
     "duration": 0.012121,
     "end_time": "2023-04-25T20:20:59.745273",
     "exception": false,
     "start_time": "2023-04-25T20:20:59.733152",
     "status": "completed"
    },
    "tags": []
   },
   "source": [
    "## Step 5: Chocolate!\n",
    "\n",
    "In the code cell below, create a scatter plot to show the relationship between `'pricepercent'` (on the horizontal x-axis) and `'winpercent'` (on the vertical y-axis). Use the `'chocolate'` column to color-code the points.  _Don't add any regression lines just yet -- you'll do that in the next step!_"
   ]
  },
  {
   "cell_type": "code",
   "execution_count": 16,
   "id": "3323e2c4",
   "metadata": {
    "execution": {
     "iopub.execute_input": "2023-04-25T20:20:59.772381Z",
     "iopub.status.busy": "2023-04-25T20:20:59.771306Z",
     "iopub.status.idle": "2023-04-25T20:21:00.108223Z",
     "shell.execute_reply": "2023-04-25T20:21:00.107216Z"
    },
    "papermill": {
     "duration": 0.353484,
     "end_time": "2023-04-25T20:21:00.110823",
     "exception": false,
     "start_time": "2023-04-25T20:20:59.757339",
     "status": "completed"
    },
    "tags": []
   },
   "outputs": [
    {
     "data": {
      "application/javascript": [
       "parent.postMessage({\"jupyterEvent\": \"custom.exercise_interaction\", \"data\": {\"outcomeType\": 1, \"valueTowardsCompletion\": 0.3333333333333333, \"interactionType\": 1, \"questionType\": 2, \"questionId\": \"5_ColorScatter\", \"learnToolsVersion\": \"0.3.4\", \"failureMessage\": \"\", \"exceptionClass\": \"\", \"trace\": \"\"}}, \"*\")"
      ],
      "text/plain": [
       "<IPython.core.display.Javascript object>"
      ]
     },
     "metadata": {},
     "output_type": "display_data"
    },
    {
     "data": {
      "text/markdown": [
       "<span style=\"color:#33cc33\">Correct</span>"
      ],
      "text/plain": [
       "Correct"
      ]
     },
     "metadata": {},
     "output_type": "display_data"
    },
    {
     "data": {
      "image/png": "[encoded data removed]",
      "text/plain": [
       "<Figure size 640x480 with 1 Axes>"
      ]
     },
     "metadata": {},
     "output_type": "display_data"
    }
   ],
   "source": [
    "# Scatter plot showing the relationship between 'pricepercent', 'winpercent', and 'chocolate'\n",
    "sns.scatterplot(x=candy_data['pricepercent'], y=candy_data['winpercent'], hue=candy_data['chocolate'])\n",
    "# Check your answer\n",
    "step_5.check()"
   ]
  },
  {
   "cell_type": "code",
   "execution_count": 17,
   "id": "709a1732",
   "metadata": {
    "execution": {
     "iopub.execute_input": "2023-04-25T20:21:00.138802Z",
     "iopub.status.busy": "2023-04-25T20:21:00.138334Z",
     "iopub.status.idle": "2023-04-25T20:21:00.143580Z",
     "shell.execute_reply": "2023-04-25T20:21:00.142238Z"
    },
    "papermill": {
     "duration": 0.022633,
     "end_time": "2023-04-25T20:21:00.146508",
     "exception": false,
     "start_time": "2023-04-25T20:21:00.123875",
     "status": "completed"
    },
    "tags": []
   },
   "outputs": [],
   "source": [
    "# Lines below will give you a hint or solution code\n",
    "#step_5.hint()\n",
    "#step_5.solution_plot()"
   ]
  },
  {
   "cell_type": "markdown",
   "id": "ffc53bc7",
   "metadata": {
    "papermill": {
     "duration": 0.013091,
     "end_time": "2023-04-25T20:21:00.172506",
     "exception": false,
     "start_time": "2023-04-25T20:21:00.159415",
     "status": "completed"
    },
    "tags": []
   },
   "source": [
    "Can you see any interesting patterns in the scatter plot?  We'll investigate this plot further  by adding regression lines in the next step!\n",
    "\n",
    "## Step 6: Investigate chocolate\n",
    "\n",
    "#### Part A\n",
    "\n",
    "Create the same scatter plot you created in **Step 5**, but now with two regression lines, corresponding to (1) chocolate candies and (2) candies without chocolate."
   ]
  },
  {
   "cell_type": "code",
   "execution_count": 18,
   "id": "95aff6f2",
   "metadata": {
    "execution": {
     "iopub.execute_input": "2023-04-25T20:21:00.202250Z",
     "iopub.status.busy": "2023-04-25T20:21:00.200843Z",
     "iopub.status.idle": "2023-04-25T20:21:00.912587Z",
     "shell.execute_reply": "2023-04-25T20:21:00.911368Z"
    },
    "papermill": {
     "duration": 0.729568,
     "end_time": "2023-04-25T20:21:00.915208",
     "exception": false,
     "start_time": "2023-04-25T20:21:00.185640",
     "status": "completed"
    },
    "tags": []
   },
   "outputs": [
    {
     "data": {
      "application/javascript": [
       "parent.postMessage({\"jupyterEvent\": \"custom.exercise_interaction\", \"data\": {\"outcomeType\": 1, \"valueTowardsCompletion\": 0.3333333333333333, \"interactionType\": 1, \"questionType\": 2, \"questionId\": \"6.1_PlotColorReg\", \"learnToolsVersion\": \"0.3.4\", \"failureMessage\": \"\", \"exceptionClass\": \"\", \"trace\": \"\"}}, \"*\")"
      ],
      "text/plain": [
       "<IPython.core.display.Javascript object>"
      ]
     },
     "metadata": {},
     "output_type": "display_data"
    },
    {
     "data": {
      "text/markdown": [
       "<span style=\"color:#33cc33\">Correct</span>"
      ],
      "text/plain": [
       "Correct"
      ]
     },
     "metadata": {},
     "output_type": "display_data"
    },
    {
     "data": {
      "image/png": "[encoded data removed]",
      "text/plain": [
       "<Figure size 578.611x500 with 1 Axes>"
      ]
     },
     "metadata": {},
     "output_type": "display_data"
    }
   ],
   "source": [
    "# Color-coded scatter plot w/ regression lines\n",
    "sns.lmplot(x=\"pricepercent\", y=\"winpercent\", hue=\"chocolate\", data=candy_data)\n",
    "# Check your answer\n",
    "step_6.a.check()"
   ]
  },
  {
   "cell_type": "code",
   "execution_count": 19,
   "id": "05671a8d",
   "metadata": {
    "execution": {
     "iopub.execute_input": "2023-04-25T20:21:00.944755Z",
     "iopub.status.busy": "2023-04-25T20:21:00.944305Z",
     "iopub.status.idle": "2023-04-25T20:21:00.951773Z",
     "shell.execute_reply": "2023-04-25T20:21:00.950412Z"
    },
    "papermill": {
     "duration": 0.025511,
     "end_time": "2023-04-25T20:21:00.954670",
     "exception": false,
     "start_time": "2023-04-25T20:21:00.929159",
     "status": "completed"
    },
    "tags": []
   },
   "outputs": [],
   "source": [
    "# Lines below will give you a hint or solution code\n",
    "#step_6.a.hint()\n",
    "#step_6.a.solution_plot()"
   ]
  },
  {
   "cell_type": "markdown",
   "id": "7ba5ce57",
   "metadata": {
    "papermill": {
     "duration": 0.013671,
     "end_time": "2023-04-25T20:21:00.982344",
     "exception": false,
     "start_time": "2023-04-25T20:21:00.968673",
     "status": "completed"
    },
    "tags": []
   },
   "source": [
    "#### Part B\n",
    "\n",
    "Using the regression lines, what conclusions can you draw about the effects of chocolate and price on candy popularity?"
   ]
  },
  {
   "cell_type": "code",
   "execution_count": 20,
   "id": "f11e1412",
   "metadata": {
    "execution": {
     "iopub.execute_input": "2023-04-25T20:21:01.012028Z",
     "iopub.status.busy": "2023-04-25T20:21:01.011548Z",
     "iopub.status.idle": "2023-04-25T20:21:01.016700Z",
     "shell.execute_reply": "2023-04-25T20:21:01.015351Z"
    },
    "papermill": {
     "duration": 0.0233,
     "end_time": "2023-04-25T20:21:01.019385",
     "exception": false,
     "start_time": "2023-04-25T20:21:00.996085",
     "status": "completed"
    },
    "tags": []
   },
   "outputs": [],
   "source": [
    "#step_6.b.hint()"
   ]
  },
  {
   "cell_type": "code",
   "execution_count": 21,
   "id": "a4421468",
   "metadata": {
    "execution": {
     "iopub.execute_input": "2023-04-25T20:21:01.048409Z",
     "iopub.status.busy": "2023-04-25T20:21:01.047999Z",
     "iopub.status.idle": "2023-04-25T20:21:01.057879Z",
     "shell.execute_reply": "2023-04-25T20:21:01.056573Z"
    },
    "papermill": {
     "duration": 0.027387,
     "end_time": "2023-04-25T20:21:01.060417",
     "exception": false,
     "start_time": "2023-04-25T20:21:01.033030",
     "status": "completed"
    },
    "tags": []
   },
   "outputs": [
    {
     "data": {
      "application/javascript": [
       "parent.postMessage({\"jupyterEvent\": \"custom.exercise_interaction\", \"data\": {\"interactionType\": 3, \"questionType\": 4, \"questionId\": \"6.2_ThinkColorReg\", \"learnToolsVersion\": \"0.3.4\", \"valueTowardsCompletion\": 0.0, \"failureMessage\": \"\", \"exceptionClass\": \"\", \"trace\": \"\", \"outcomeType\": 4}}, \"*\")"
      ],
      "text/plain": [
       "<IPython.core.display.Javascript object>"
      ]
     },
     "metadata": {},
     "output_type": "display_data"
    },
    {
     "data": {
      "text/markdown": [
       "<span style=\"color:#33cc99\">Solution:</span> We'll begin with the regression line for chocolate candies. Since this line has a slightly positive slope, we can say that more expensive chocolate candies tend to be more popular (than relatively cheaper chocolate candies).  Likewise, since the regression line for candies without chocolate has a negative slope, we can say that if candies don't contain chocolate, they tend to be more popular when they are cheaper.  One important note, however, is that the dataset is quite small -- so we shouldn't invest too much trust in these patterns!  To inspire more confidence in the results, we should add more candies to the dataset."
      ],
      "text/plain": [
       "Solution: We'll begin with the regression line for chocolate candies. Since this line has a slightly positive slope, we can say that more expensive chocolate candies tend to be more popular (than relatively cheaper chocolate candies).  Likewise, since the regression line for candies without chocolate has a negative slope, we can say that if candies don't contain chocolate, they tend to be more popular when they are cheaper.  One important note, however, is that the dataset is quite small -- so we shouldn't invest too much trust in these patterns!  To inspire more confidence in the results, we should add more candies to the dataset."
      ]
     },
     "metadata": {},
     "output_type": "display_data"
    }
   ],
   "source": [
    "# Check your answer (Run this code cell to receive credit!)\n",
    "step_6.b.solution()"
   ]
  },
  {
   "cell_type": "markdown",
   "id": "4e21d320",
   "metadata": {
    "papermill": {
     "duration": 0.013458,
     "end_time": "2023-04-25T20:21:01.087966",
     "exception": false,
     "start_time": "2023-04-25T20:21:01.074508",
     "status": "completed"
    },
    "tags": []
   },
   "source": [
    "## Step 7: Everybody loves chocolate.\n",
    "\n",
    "#### Part A\n",
    "\n",
    "Create a categorical scatter plot to highlight the relationship between `'chocolate'` and `'winpercent'`.  Put `'chocolate'` on the (horizontal) x-axis, and `'winpercent'` on the (vertical) y-axis."
   ]
  },
  {
   "cell_type": "code",
   "execution_count": 22,
   "id": "8ceeff58",
   "metadata": {
    "execution": {
     "iopub.execute_input": "2023-04-25T20:21:01.117207Z",
     "iopub.status.busy": "2023-04-25T20:21:01.116734Z",
     "iopub.status.idle": "2023-04-25T20:21:01.581278Z",
     "shell.execute_reply": "2023-04-25T20:21:01.579491Z"
    },
    "papermill": {
     "duration": 0.484295,
     "end_time": "2023-04-25T20:21:01.586027",
     "exception": false,
     "start_time": "2023-04-25T20:21:01.101732",
     "status": "completed"
    },
    "tags": []
   },
   "outputs": [
    {
     "data": {
      "application/javascript": [
       "parent.postMessage({\"jupyterEvent\": \"custom.exercise_interaction\", \"data\": {\"outcomeType\": 1, \"valueTowardsCompletion\": 0.3333333333333333, \"interactionType\": 1, \"questionType\": 2, \"questionId\": \"7.1_PlotSwarm\", \"learnToolsVersion\": \"0.3.4\", \"failureMessage\": \"\", \"exceptionClass\": \"\", \"trace\": \"\"}}, \"*\")"
      ],
      "text/plain": [
       "<IPython.core.display.Javascript object>"
      ]
     },
     "metadata": {},
     "output_type": "display_data"
    },
    {
     "data": {
      "text/markdown": [
       "<span style=\"color:#33cc33\">Correct</span>"
      ],
      "text/plain": [
       "Correct"
      ]
     },
     "metadata": {},
     "output_type": "display_data"
    },
    {
     "data": {
      "image/png": "[encoded data removed]",
      "text/plain": [
       "<Figure size 640x480 with 1 Axes>"
      ]
     },
     "metadata": {},
     "output_type": "display_data"
    }
   ],
   "source": [
    "# Scatter plot showing the relationship between 'chocolate' and 'winpercent'\n",
    "sns.swarmplot(x=candy_data['chocolate'], y=candy_data['winpercent'])\n",
    "# Check your answer\n",
    "step_7.a.check()"
   ]
  },
  {
   "cell_type": "code",
   "execution_count": 23,
   "id": "4a980066",
   "metadata": {
    "execution": {
     "iopub.execute_input": "2023-04-25T20:21:01.638820Z",
     "iopub.status.busy": "2023-04-25T20:21:01.637717Z",
     "iopub.status.idle": "2023-04-25T20:21:01.642277Z",
     "shell.execute_reply": "2023-04-25T20:21:01.641322Z"
    },
    "papermill": {
     "duration": 0.023406,
     "end_time": "2023-04-25T20:21:01.644540",
     "exception": false,
     "start_time": "2023-04-25T20:21:01.621134",
     "status": "completed"
    },
    "tags": []
   },
   "outputs": [],
   "source": [
    "# Lines below will give you a hint or solution code\n",
    "#step_7.a.hint()\n",
    "#step_7.a.solution_plot()"
   ]
  },
  {
   "cell_type": "markdown",
   "id": "2d5fd8e8",
   "metadata": {
    "papermill": {
     "duration": 0.014338,
     "end_time": "2023-04-25T20:21:01.674258",
     "exception": false,
     "start_time": "2023-04-25T20:21:01.659920",
     "status": "completed"
    },
    "tags": []
   },
   "source": [
    "#### Part B\n",
    "\n",
    "You decide to dedicate a section of your report to the fact that chocolate candies tend to be more popular than candies without chocolate.  Which plot is more appropriate to tell this story: the plot from **Step 6**, or the plot from **Step 7**?"
   ]
  },
  {
   "cell_type": "code",
   "execution_count": 24,
   "id": "93c547a5",
   "metadata": {
    "execution": {
     "iopub.execute_input": "2023-04-25T20:21:01.707174Z",
     "iopub.status.busy": "2023-04-25T20:21:01.705959Z",
     "iopub.status.idle": "2023-04-25T20:21:01.711614Z",
     "shell.execute_reply": "2023-04-25T20:21:01.710347Z"
    },
    "papermill": {
     "duration": 0.025266,
     "end_time": "2023-04-25T20:21:01.714481",
     "exception": false,
     "start_time": "2023-04-25T20:21:01.689215",
     "status": "completed"
    },
    "tags": []
   },
   "outputs": [],
   "source": [
    "#step_7.b.hint()"
   ]
  },
  {
   "cell_type": "code",
   "execution_count": 25,
   "id": "c5e9cebb",
   "metadata": {
    "execution": {
     "iopub.execute_input": "2023-04-25T20:21:01.747232Z",
     "iopub.status.busy": "2023-04-25T20:21:01.745922Z",
     "iopub.status.idle": "2023-04-25T20:21:01.756714Z",
     "shell.execute_reply": "2023-04-25T20:21:01.755744Z"
    },
    "papermill": {
     "duration": 0.029397,
     "end_time": "2023-04-25T20:21:01.759183",
     "exception": false,
     "start_time": "2023-04-25T20:21:01.729786",
     "status": "completed"
    },
    "tags": []
   },
   "outputs": [
    {
     "data": {
      "application/javascript": [
       "parent.postMessage({\"jupyterEvent\": \"custom.exercise_interaction\", \"data\": {\"interactionType\": 3, \"questionType\": 4, \"questionId\": \"7.2_ThinkSwarm\", \"learnToolsVersion\": \"0.3.4\", \"valueTowardsCompletion\": 0.0, \"failureMessage\": \"\", \"exceptionClass\": \"\", \"trace\": \"\", \"outcomeType\": 4}}, \"*\")"
      ],
      "text/plain": [
       "<IPython.core.display.Javascript object>"
      ]
     },
     "metadata": {},
     "output_type": "display_data"
    },
    {
     "data": {
      "text/markdown": [
       "<span style=\"color:#33cc99\">Solution:</span> In this case, the categorical scatter plot from **Step 7** is the more appropriate plot. While both plots tell the desired story, the plot from **Step 6** conveys far more information that could distract from the main point."
      ],
      "text/plain": [
       "Solution: In this case, the categorical scatter plot from **Step 7** is the more appropriate plot. While both plots tell the desired story, the plot from **Step 6** conveys far more information that could distract from the main point."
      ]
     },
     "metadata": {},
     "output_type": "display_data"
    }
   ],
   "source": [
    "# Check your answer (Run this code cell to receive credit!)\n",
    "step_7.b.solution()"
   ]
  },
  {
   "cell_type": "markdown",
   "id": "84234a87",
   "metadata": {
    "papermill": {
     "duration": 0.014676,
     "end_time": "2023-04-25T20:21:01.788611",
     "exception": false,
     "start_time": "2023-04-25T20:21:01.773935",
     "status": "completed"
    },
    "tags": []
   },
   "source": [
    "## Keep going\n",
    "\n",
    "Explore **[histograms and density plots](https://www.kaggle.com/alexisbcook/distributions)**."
   ]
  },
  {
   "cell_type": "markdown",
   "id": "63721ced",
   "metadata": {
    "papermill": {
     "duration": 0.014556,
     "end_time": "2023-04-25T20:21:01.818048",
     "exception": false,
     "start_time": "2023-04-25T20:21:01.803492",
     "status": "completed"
    },
    "tags": []
   },
   "source": [
    "---\n",
    "\n",
    "\n",
    "\n",
    "\n",
    "*Have questions or comments? Visit the [course discussion forum](https://www.kaggle.com/learn/data-visualization/discussion) to chat with other learners.*"
   ]
  }
 ],
 "metadata": {
  "kernelspec": {
   "display_name": "Python 3",
   "language": "python",
   "name": "python3"
  },
  "language_info": {
   "codemirror_mode": {
    "name": "ipython",
    "version": 3
   },
   "file_extension": ".py",
   "mimetype": "text/x-python",
   "name": "python",
   "nbconvert_exporter": "python",
   "pygments_lexer": "ipython3",
   "version": "3.7.12"
  },
  "papermill": {
   "default_parameters": {},
   "duration": 16.991873,
   "end_time": "2023-04-25T20:21:02.656399",
   "environment_variables": {},
   "exception": null,
   "input_path": "__notebook__.ipynb",
   "output_path": "__notebook__.ipynb",
   "parameters": {},
   "start_time": "2023-04-25T20:20:45.664526",
   "version": "2.4.0"
  }
 },
 "nbformat": 4,
 "nbformat_minor": 5
}
