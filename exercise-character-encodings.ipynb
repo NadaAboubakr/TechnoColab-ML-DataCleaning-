{
 "cells": [
  {
   "cell_type": "markdown",
   "id": "a7da72be",
   "metadata": {
    "papermill": {
     "duration": 0.005901,
     "end_time": "2023-04-14T10:13:20.276124",
     "exception": false,
     "start_time": "2023-04-14T10:13:20.270223",
     "status": "completed"
    },
    "tags": []
   },
   "source": [
    "**This notebook is an exercise in the [Data Cleaning](https://www.kaggle.com/learn/data-cleaning) course.  You can reference the tutorial at [this link](https://www.kaggle.com/alexisbcook/character-encodings).**\n",
    "\n",
    "---\n"
   ]
  },
  {
   "cell_type": "markdown",
   "id": "48668452",
   "metadata": {
    "papermill": {
     "duration": 0.004378,
     "end_time": "2023-04-14T10:13:20.285396",
     "exception": false,
     "start_time": "2023-04-14T10:13:20.281018",
     "status": "completed"
    },
    "tags": []
   },
   "source": [
    "In this exercise, you'll apply what you learned in the **Character encodings** tutorial.\n",
    "\n",
    "# Setup\n",
    "\n",
    "The questions below will give you feedback on your work. Run the following cell to set up the feedback system."
   ]
  },
  {
   "cell_type": "code",
   "execution_count": 1,
   "id": "47c3973d",
   "metadata": {
    "execution": {
     "iopub.execute_input": "2023-04-14T10:13:20.297256Z",
     "iopub.status.busy": "2023-04-14T10:13:20.296687Z",
     "iopub.status.idle": "2023-04-14T10:13:20.382612Z",
     "shell.execute_reply": "2023-04-14T10:13:20.381740Z"
    },
    "papermill": {
     "duration": 0.094688,
     "end_time": "2023-04-14T10:13:20.384893",
     "exception": false,
     "start_time": "2023-04-14T10:13:20.290205",
     "status": "completed"
    },
    "tags": []
   },
   "outputs": [
    {
     "name": "stdout",
     "output_type": "stream",
     "text": [
      "Setup Complete\n"
     ]
    }
   ],
   "source": [
    "from learntools.core import binder\n",
    "binder.bind(globals())\n",
    "from learntools.data_cleaning.ex4 import *\n",
    "print(\"Setup Complete\")"
   ]
  },
  {
   "cell_type": "markdown",
   "id": "26456480",
   "metadata": {
    "papermill": {
     "duration": 0.004822,
     "end_time": "2023-04-14T10:13:20.394973",
     "exception": false,
     "start_time": "2023-04-14T10:13:20.390151",
     "status": "completed"
    },
    "tags": []
   },
   "source": [
    "# Get our environment set up\n",
    "\n",
    "The first thing we'll need to do is load in the libraries we'll be using."
   ]
  },
  {
   "cell_type": "code",
   "execution_count": 2,
   "id": "e23fc8e5",
   "metadata": {
    "execution": {
     "iopub.execute_input": "2023-04-14T10:13:20.406762Z",
     "iopub.status.busy": "2023-04-14T10:13:20.406355Z",
     "iopub.status.idle": "2023-04-14T10:13:20.412111Z",
     "shell.execute_reply": "2023-04-14T10:13:20.410735Z"
    },
    "papermill": {
     "duration": 0.014724,
     "end_time": "2023-04-14T10:13:20.414609",
     "exception": false,
     "start_time": "2023-04-14T10:13:20.399885",
     "status": "completed"
    },
    "tags": []
   },
   "outputs": [],
   "source": [
    "# modules we'll use\n",
    "import pandas as pd\n",
    "import numpy as np\n",
    "\n",
    "# helpful character encoding module\n",
    "import charset_normalizer\n",
    "\n",
    "# set seed for reproducibility\n",
    "np.random.seed(0)"
   ]
  },
  {
   "cell_type": "markdown",
   "id": "47774dfc",
   "metadata": {
    "papermill": {
     "duration": 0.004616,
     "end_time": "2023-04-14T10:13:20.424179",
     "exception": false,
     "start_time": "2023-04-14T10:13:20.419563",
     "status": "completed"
    },
    "tags": []
   },
   "source": [
    "# 1) What are encodings?\n",
    "\n",
    "You're working with a dataset composed of bytes.  Run the code cell below to print a sample entry."
   ]
  },
  {
   "cell_type": "code",
   "execution_count": 3,
   "id": "26d89c06",
   "metadata": {
    "execution": {
     "iopub.execute_input": "2023-04-14T10:13:20.435666Z",
     "iopub.status.busy": "2023-04-14T10:13:20.435257Z",
     "iopub.status.idle": "2023-04-14T10:13:20.441622Z",
     "shell.execute_reply": "2023-04-14T10:13:20.440279Z"
    },
    "papermill": {
     "duration": 0.015187,
     "end_time": "2023-04-14T10:13:20.444081",
     "exception": false,
     "start_time": "2023-04-14T10:13:20.428894",
     "status": "completed"
    },
    "tags": []
   },
   "outputs": [
    {
     "name": "stdout",
     "output_type": "stream",
     "text": [
      "b'\\xa7A\\xa6n'\n",
      "data type: <class 'bytes'>\n"
     ]
    }
   ],
   "source": [
    "sample_entry = b'\\xa7A\\xa6n'\n",
    "print(sample_entry)\n",
    "print('data type:', type(sample_entry))"
   ]
  },
  {
   "cell_type": "markdown",
   "id": "dce35cc7",
   "metadata": {
    "papermill": {
     "duration": 0.004835,
     "end_time": "2023-04-14T10:13:20.453725",
     "exception": false,
     "start_time": "2023-04-14T10:13:20.448890",
     "status": "completed"
    },
    "tags": []
   },
   "source": [
    "You notice that it doesn't use the standard UTF-8 encoding. \n",
    "\n",
    "Use the next code cell to create a variable `new_entry` that changes the encoding from `\"big5-tw\"` to `\"utf-8\"`.  `new_entry` should have the bytes datatype."
   ]
  },
  {
   "cell_type": "code",
   "execution_count": 4,
   "id": "b2dd4be8",
   "metadata": {
    "execution": {
     "iopub.execute_input": "2023-04-14T10:13:20.465235Z",
     "iopub.status.busy": "2023-04-14T10:13:20.464817Z",
     "iopub.status.idle": "2023-04-14T10:13:20.476095Z",
     "shell.execute_reply": "2023-04-14T10:13:20.474777Z"
    },
    "papermill": {
     "duration": 0.020176,
     "end_time": "2023-04-14T10:13:20.478594",
     "exception": false,
     "start_time": "2023-04-14T10:13:20.458418",
     "status": "completed"
    },
    "tags": []
   },
   "outputs": [
    {
     "data": {
      "application/javascript": [
       "parent.postMessage({\"jupyterEvent\": \"custom.exercise_interaction\", \"data\": {\"outcomeType\": 1, \"valueTowardsCompletion\": 0.3333333333333333, \"interactionType\": 1, \"questionType\": 1, \"questionId\": \"1_EncodingsIntro\", \"learnToolsVersion\": \"0.3.4\", \"failureMessage\": \"\", \"exceptionClass\": \"\", \"trace\": \"\"}}, \"*\")"
      ],
      "text/plain": [
       "<IPython.core.display.Javascript object>"
      ]
     },
     "metadata": {},
     "output_type": "display_data"
    },
    {
     "data": {
      "text/markdown": [
       "<span style=\"color:#33cc33\">Correct</span>"
      ],
      "text/plain": [
       "Correct"
      ]
     },
     "metadata": {},
     "output_type": "display_data"
    }
   ],
   "source": [
    "before = sample_entry.decode('big5-tw')\n",
    "new_entry = before.encode()\n",
    "\n",
    "# Check your answer\n",
    "q1.check()"
   ]
  },
  {
   "cell_type": "code",
   "execution_count": 5,
   "id": "bccf23f3",
   "metadata": {
    "execution": {
     "iopub.execute_input": "2023-04-14T10:13:20.490702Z",
     "iopub.status.busy": "2023-04-14T10:13:20.490321Z",
     "iopub.status.idle": "2023-04-14T10:13:20.499754Z",
     "shell.execute_reply": "2023-04-14T10:13:20.498630Z"
    },
    "papermill": {
     "duration": 0.018318,
     "end_time": "2023-04-14T10:13:20.501920",
     "exception": false,
     "start_time": "2023-04-14T10:13:20.483602",
     "status": "completed"
    },
    "tags": []
   },
   "outputs": [
    {
     "data": {
      "application/javascript": [
       "parent.postMessage({\"jupyterEvent\": \"custom.exercise_interaction\", \"data\": {\"interactionType\": 2, \"questionType\": 1, \"questionId\": \"1_EncodingsIntro\", \"learnToolsVersion\": \"0.3.4\", \"valueTowardsCompletion\": 0.0, \"failureMessage\": \"\", \"exceptionClass\": \"\", \"trace\": \"\", \"outcomeType\": 4}}, \"*\")"
      ],
      "text/plain": [
       "<IPython.core.display.Javascript object>"
      ]
     },
     "metadata": {},
     "output_type": "display_data"
    },
    {
     "data": {
      "text/markdown": [
       "<span style=\"color:#3366cc\">Hint:</span> Try using `.decode()` to get the string, then `.encode()` to get the bytes representation, encoded in UTF-8."
      ],
      "text/plain": [
       "Hint: Try using `.decode()` to get the string, then `.encode()` to get the bytes representation, encoded in UTF-8."
      ]
     },
     "metadata": {},
     "output_type": "display_data"
    }
   ],
   "source": [
    "# Lines below will give you a hint or solution code\n",
    "q1.hint()\n",
    "#q1.solution()"
   ]
  },
  {
   "cell_type": "markdown",
   "id": "537d8486",
   "metadata": {
    "papermill": {
     "duration": 0.004986,
     "end_time": "2023-04-14T10:13:20.512584",
     "exception": false,
     "start_time": "2023-04-14T10:13:20.507598",
     "status": "completed"
    },
    "tags": []
   },
   "source": [
    "# 2) Reading in files with encoding problems\n",
    "\n",
    "Use the code cell below to read in this file at path `\"../input/fatal-police-shootings-in-the-us/PoliceKillingsUS.csv\"`.  \n",
    "\n",
    "Figure out what the correct encoding should be and read in the file to a DataFrame `police_killings`."
   ]
  },
  {
   "cell_type": "code",
   "execution_count": 6,
   "id": "58804804",
   "metadata": {
    "execution": {
     "iopub.execute_input": "2023-04-14T10:13:20.525400Z",
     "iopub.status.busy": "2023-04-14T10:13:20.524960Z",
     "iopub.status.idle": "2023-04-14T10:13:20.551822Z",
     "shell.execute_reply": "2023-04-14T10:13:20.550339Z"
    },
    "papermill": {
     "duration": 0.036578,
     "end_time": "2023-04-14T10:13:20.554417",
     "exception": false,
     "start_time": "2023-04-14T10:13:20.517839",
     "status": "completed"
    },
    "tags": []
   },
   "outputs": [
    {
     "data": {
      "application/javascript": [
       "parent.postMessage({\"jupyterEvent\": \"custom.exercise_interaction\", \"data\": {\"outcomeType\": 1, \"valueTowardsCompletion\": 0.3333333333333333, \"interactionType\": 1, \"questionType\": 1, \"questionId\": \"2_ReadIn\", \"learnToolsVersion\": \"0.3.4\", \"failureMessage\": \"\", \"exceptionClass\": \"\", \"trace\": \"\"}}, \"*\")"
      ],
      "text/plain": [
       "<IPython.core.display.Javascript object>"
      ]
     },
     "metadata": {},
     "output_type": "display_data"
    },
    {
     "data": {
      "text/markdown": [
       "<span style=\"color:#33cc33\">Correct</span>"
      ],
      "text/plain": [
       "Correct"
      ]
     },
     "metadata": {},
     "output_type": "display_data"
    }
   ],
   "source": [
    "# TODO: Load in the DataFrame correctly.\n",
    "\n",
    "police_killings = pd.read_csv(\"../input/fatal-police-shootings-in-the-us/PoliceKillingsUS.csv\", encoding='Windows-1252')\n",
    "\n",
    "# Check your answer\n",
    "q2.check()"
   ]
  },
  {
   "cell_type": "markdown",
   "id": "032c2450",
   "metadata": {
    "papermill": {
     "duration": 0.005293,
     "end_time": "2023-04-14T10:13:20.565311",
     "exception": false,
     "start_time": "2023-04-14T10:13:20.560018",
     "status": "completed"
    },
    "tags": []
   },
   "source": [
    "Feel free to use any additional code cells for supplemental work.  To get credit for finishing this question, you'll need to run `q2.check()` and get a result of **Correct**."
   ]
  },
  {
   "cell_type": "code",
   "execution_count": 7,
   "id": "1e2fb0c0",
   "metadata": {
    "execution": {
     "iopub.execute_input": "2023-04-14T10:13:20.579222Z",
     "iopub.status.busy": "2023-04-14T10:13:20.578793Z",
     "iopub.status.idle": "2023-04-14T10:13:20.584058Z",
     "shell.execute_reply": "2023-04-14T10:13:20.582819Z"
    },
    "papermill": {
     "duration": 0.014462,
     "end_time": "2023-04-14T10:13:20.586438",
     "exception": false,
     "start_time": "2023-04-14T10:13:20.571976",
     "status": "completed"
    },
    "tags": []
   },
   "outputs": [],
   "source": [
    "# (Optional) Use this code cell for any additional work."
   ]
  },
  {
   "cell_type": "code",
   "execution_count": 8,
   "id": "1712f9ac",
   "metadata": {
    "execution": {
     "iopub.execute_input": "2023-04-14T10:13:20.599463Z",
     "iopub.status.busy": "2023-04-14T10:13:20.599080Z",
     "iopub.status.idle": "2023-04-14T10:13:20.604070Z",
     "shell.execute_reply": "2023-04-14T10:13:20.602800Z"
    },
    "papermill": {
     "duration": 0.014394,
     "end_time": "2023-04-14T10:13:20.606522",
     "exception": false,
     "start_time": "2023-04-14T10:13:20.592128",
     "status": "completed"
    },
    "tags": []
   },
   "outputs": [],
   "source": [
    "# Lines below will give you a hint or solution code\n",
    "#q2.hint()\n",
    "#q2.solution()"
   ]
  },
  {
   "cell_type": "markdown",
   "id": "2f10f682",
   "metadata": {
    "papermill": {
     "duration": 0.005436,
     "end_time": "2023-04-14T10:13:20.617656",
     "exception": false,
     "start_time": "2023-04-14T10:13:20.612220",
     "status": "completed"
    },
    "tags": []
   },
   "source": [
    "# 3) Saving your files with UTF-8 encoding\n",
    "\n",
    "Save a version of the police killings dataset to CSV with UTF-8 encoding.  Your answer will be marked correct after saving this file.  \n",
    "\n",
    "Note: When using the `to_csv()` method, supply only the name of the file (e.g., `\"my_file.csv\"`).  This saves the file at the filepath `\"/kaggle/working/my_file.csv\"`."
   ]
  },
  {
   "cell_type": "code",
   "execution_count": 9,
   "id": "6878b63a",
   "metadata": {
    "execution": {
     "iopub.execute_input": "2023-04-14T10:13:20.630755Z",
     "iopub.status.busy": "2023-04-14T10:13:20.630350Z",
     "iopub.status.idle": "2023-04-14T10:13:20.669743Z",
     "shell.execute_reply": "2023-04-14T10:13:20.668601Z"
    },
    "papermill": {
     "duration": 0.04872,
     "end_time": "2023-04-14T10:13:20.672110",
     "exception": false,
     "start_time": "2023-04-14T10:13:20.623390",
     "status": "completed"
    },
    "tags": []
   },
   "outputs": [
    {
     "data": {
      "application/javascript": [
       "parent.postMessage({\"jupyterEvent\": \"custom.exercise_interaction\", \"data\": {\"outcomeType\": 1, \"valueTowardsCompletion\": 0.3333333333333333, \"interactionType\": 1, \"questionType\": 2, \"questionId\": \"3_SaveCSV\", \"learnToolsVersion\": \"0.3.4\", \"failureMessage\": \"\", \"exceptionClass\": \"\", \"trace\": \"\"}}, \"*\")"
      ],
      "text/plain": [
       "<IPython.core.display.Javascript object>"
      ]
     },
     "metadata": {},
     "output_type": "display_data"
    },
    {
     "data": {
      "text/markdown": [
       "<span style=\"color:#33cc33\">Correct</span>"
      ],
      "text/plain": [
       "Correct"
      ]
     },
     "metadata": {},
     "output_type": "display_data"
    }
   ],
   "source": [
    "# TODO: Save the police killings dataset to CSV\n",
    "police_killings.to_csv(\"my_file.csv\")\n",
    "\n",
    "# Check your answer\n",
    "q3.check()"
   ]
  },
  {
   "cell_type": "code",
   "execution_count": 10,
   "id": "6ca2b7d0",
   "metadata": {
    "execution": {
     "iopub.execute_input": "2023-04-14T10:13:20.685956Z",
     "iopub.status.busy": "2023-04-14T10:13:20.685036Z",
     "iopub.status.idle": "2023-04-14T10:13:20.690090Z",
     "shell.execute_reply": "2023-04-14T10:13:20.688931Z"
    },
    "papermill": {
     "duration": 0.01451,
     "end_time": "2023-04-14T10:13:20.692426",
     "exception": false,
     "start_time": "2023-04-14T10:13:20.677916",
     "status": "completed"
    },
    "tags": []
   },
   "outputs": [],
   "source": [
    "# Lines below will give you a hint or solution code\n",
    "#q3.hint()\n",
    "#q3.solution()"
   ]
  },
  {
   "cell_type": "markdown",
   "id": "d77651cf",
   "metadata": {
    "papermill": {
     "duration": 0.005789,
     "end_time": "2023-04-14T10:13:20.704104",
     "exception": false,
     "start_time": "2023-04-14T10:13:20.698315",
     "status": "completed"
    },
    "tags": []
   },
   "source": [
    "# (Optional) More practice\n",
    "\n",
    "Check out [this dataset of files in different character encodings](https://www.kaggle.com/rtatman/character-encoding-examples). Can you read in all the files with their original encodings and them save them out as UTF-8 files?\n",
    "\n",
    "If you have a file that's in UTF-8 but has just a couple of weird-looking characters in it, you can try out the [ftfy module](https://ftfy.readthedocs.io/en/latest/#) and see if it helps. \n",
    "\n",
    "# Keep going\n",
    "\n",
    "In the final lesson, learn how to [**clean up inconsistent text entries**](https://www.kaggle.com/alexisbcook/inconsistent-data-entry) in your dataset."
   ]
  },
  {
   "cell_type": "markdown",
   "id": "94231a3b",
   "metadata": {
    "papermill": {
     "duration": 0.005556,
     "end_time": "2023-04-14T10:13:20.715531",
     "exception": false,
     "start_time": "2023-04-14T10:13:20.709975",
     "status": "completed"
    },
    "tags": []
   },
   "source": [
    "---\n",
    "\n",
    "\n",
    "\n",
    "\n",
    "*Have questions or comments? Visit the [course discussion forum](https://www.kaggle.com/learn/data-cleaning/discussion) to chat with other learners.*"
   ]
  }
 ],
 "metadata": {
  "kernelspec": {
   "display_name": "Python 3",
   "language": "python",
   "name": "python3"
  },
  "language_info": {
   "codemirror_mode": {
    "name": "ipython",
    "version": 3
   },
   "file_extension": ".py",
   "mimetype": "text/x-python",
   "name": "python",
   "nbconvert_exporter": "python",
   "pygments_lexer": "ipython3",
   "version": "3.7.12"
  },
  "papermill": {
   "default_parameters": {},
   "duration": 11.009106,
   "end_time": "2023-04-14T10:13:21.342968",
   "environment_variables": {},
   "exception": null,
   "input_path": "__notebook__.ipynb",
   "output_path": "__notebook__.ipynb",
   "parameters": {},
   "start_time": "2023-04-14T10:13:10.333862",
   "version": "2.4.0"
  }
 },
 "nbformat": 4,
 "nbformat_minor": 5
}
