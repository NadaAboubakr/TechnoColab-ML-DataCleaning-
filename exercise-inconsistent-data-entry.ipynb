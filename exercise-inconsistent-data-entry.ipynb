{
 "cells": [
  {
   "cell_type": "markdown",
   "id": "11c3fddf",
   "metadata": {
    "papermill": {
     "duration": 0.006559,
     "end_time": "2023-04-14T14:03:21.467917",
     "exception": false,
     "start_time": "2023-04-14T14:03:21.461358",
     "status": "completed"
    },
    "tags": []
   },
   "source": [
    "**This notebook is an exercise in the [Data Cleaning](https://www.kaggle.com/learn/data-cleaning) course.  You can reference the tutorial at [this link](https://www.kaggle.com/alexisbcook/inconsistent-data-entry).**\n",
    "\n",
    "---\n"
   ]
  },
  {
   "cell_type": "markdown",
   "id": "9baf6c03",
   "metadata": {
    "papermill": {
     "duration": 0.004817,
     "end_time": "2023-04-14T14:03:21.478032",
     "exception": false,
     "start_time": "2023-04-14T14:03:21.473215",
     "status": "completed"
    },
    "tags": []
   },
   "source": [
    "In this exercise, you'll apply what you learned in the **Inconsistent data entry** tutorial.\n",
    "\n",
    "# Setup\n",
    "\n",
    "The questions below will give you feedback on your work. Run the following cell to set up the feedback system."
   ]
  },
  {
   "cell_type": "code",
   "execution_count": 1,
   "id": "b7733c89",
   "metadata": {
    "execution": {
     "iopub.execute_input": "2023-04-14T14:03:21.490694Z",
     "iopub.status.busy": "2023-04-14T14:03:21.490069Z",
     "iopub.status.idle": "2023-04-14T14:03:21.686849Z",
     "shell.execute_reply": "2023-04-14T14:03:21.685281Z"
    },
    "papermill": {
     "duration": 0.207259,
     "end_time": "2023-04-14T14:03:21.690271",
     "exception": false,
     "start_time": "2023-04-14T14:03:21.483012",
     "status": "completed"
    },
    "tags": []
   },
   "outputs": [
    {
     "name": "stdout",
     "output_type": "stream",
     "text": [
      "Setup Complete\n"
     ]
    }
   ],
   "source": [
    "from learntools.core import binder\n",
    "binder.bind(globals())\n",
    "from learntools.data_cleaning.ex5 import *\n",
    "print(\"Setup Complete\")"
   ]
  },
  {
   "cell_type": "markdown",
   "id": "4f2fb2df",
   "metadata": {
    "papermill": {
     "duration": 0.004828,
     "end_time": "2023-04-14T14:03:21.700654",
     "exception": false,
     "start_time": "2023-04-14T14:03:21.695826",
     "status": "completed"
    },
    "tags": []
   },
   "source": [
    "# Get our environment set up\n",
    "\n",
    "The first thing we'll need to do is load in the libraries and dataset we'll be using.  We use the same dataset from the tutorial."
   ]
  },
  {
   "cell_type": "code",
   "execution_count": 2,
   "id": "a26b6655",
   "metadata": {
    "execution": {
     "iopub.execute_input": "2023-04-14T14:03:21.712595Z",
     "iopub.status.busy": "2023-04-14T14:03:21.712149Z",
     "iopub.status.idle": "2023-04-14T14:03:21.738783Z",
     "shell.execute_reply": "2023-04-14T14:03:21.737510Z"
    },
    "papermill": {
     "duration": 0.036114,
     "end_time": "2023-04-14T14:03:21.741697",
     "exception": false,
     "start_time": "2023-04-14T14:03:21.705583",
     "status": "completed"
    },
    "tags": []
   },
   "outputs": [],
   "source": [
    "# modules we'll use\n",
    "import pandas as pd\n",
    "import numpy as np\n",
    "\n",
    "# helpful modules\n",
    "import fuzzywuzzy\n",
    "from fuzzywuzzy import process\n",
    "import charset_normalizer\n",
    "\n",
    "# read in all our data\n",
    "professors = pd.read_csv(\"../input/pakistan-intellectual-capital/pakistan_intellectual_capital.csv\")\n",
    "\n",
    "# set seed for reproducibility\n",
    "np.random.seed(0)"
   ]
  },
  {
   "cell_type": "markdown",
   "id": "9289d6e5",
   "metadata": {
    "papermill": {
     "duration": 0.004907,
     "end_time": "2023-04-14T14:03:21.752008",
     "exception": false,
     "start_time": "2023-04-14T14:03:21.747101",
     "status": "completed"
    },
    "tags": []
   },
   "source": [
    "Next, we'll redo all of the work that we did in the tutorial."
   ]
  },
  {
   "cell_type": "code",
   "execution_count": 3,
   "id": "ca3fd73d",
   "metadata": {
    "execution": {
     "iopub.execute_input": "2023-04-14T14:03:21.764847Z",
     "iopub.status.busy": "2023-04-14T14:03:21.763721Z",
     "iopub.status.idle": "2023-04-14T14:03:21.781910Z",
     "shell.execute_reply": "2023-04-14T14:03:21.780239Z"
    },
    "papermill": {
     "duration": 0.027837,
     "end_time": "2023-04-14T14:03:21.784828",
     "exception": false,
     "start_time": "2023-04-14T14:03:21.756991",
     "status": "completed"
    },
    "tags": []
   },
   "outputs": [
    {
     "name": "stdout",
     "output_type": "stream",
     "text": [
      "All done!\n"
     ]
    }
   ],
   "source": [
    "# convert to lower case\n",
    "professors['Country'] = professors['Country'].str.lower()\n",
    "# remove trailing white spaces\n",
    "professors['Country'] = professors['Country'].str.strip()\n",
    "\n",
    "# get the top 10 closest matches to \"south korea\"\n",
    "countries = professors['Country'].unique()\n",
    "matches = fuzzywuzzy.process.extract(\"south korea\", countries, limit=10, scorer=fuzzywuzzy.fuzz.token_sort_ratio)\n",
    "\n",
    "def replace_matches_in_column(df, column, string_to_match, min_ratio = 47):\n",
    "    # get a list of unique strings\n",
    "    strings = df[column].unique()\n",
    "    \n",
    "    # get the top 10 closest matches to our input string\n",
    "    matches = fuzzywuzzy.process.extract(string_to_match, strings, \n",
    "                                         limit=10, scorer=fuzzywuzzy.fuzz.token_sort_ratio)\n",
    "\n",
    "    # only get matches with a ratio > 90\n",
    "    close_matches = [matches[0] for matches in matches if matches[1] >= min_ratio]\n",
    "\n",
    "    # get the rows of all the close matches in our dataframe\n",
    "    rows_with_matches = df[column].isin(close_matches)\n",
    "\n",
    "    # replace all rows with close matches with the input matches \n",
    "    df.loc[rows_with_matches, column] = string_to_match\n",
    "    \n",
    "    # let us know the function's done\n",
    "    print(\"All done!\")\n",
    "    \n",
    "replace_matches_in_column(df=professors, column='Country', string_to_match=\"south korea\")\n",
    "countries = professors['Country'].unique()"
   ]
  },
  {
   "cell_type": "markdown",
   "id": "8e02948f",
   "metadata": {
    "papermill": {
     "duration": 0.005055,
     "end_time": "2023-04-14T14:03:21.795024",
     "exception": false,
     "start_time": "2023-04-14T14:03:21.789969",
     "status": "completed"
    },
    "tags": []
   },
   "source": [
    "# 1) Examine another column\n",
    "\n",
    "Write code below to take a look at all the unique values in the \"Graduated from\" column."
   ]
  },
  {
   "cell_type": "code",
   "execution_count": 4,
   "id": "9a63adc6",
   "metadata": {
    "execution": {
     "iopub.execute_input": "2023-04-14T14:03:21.808105Z",
     "iopub.status.busy": "2023-04-14T14:03:21.806757Z",
     "iopub.status.idle": "2023-04-14T14:03:21.814128Z",
     "shell.execute_reply": "2023-04-14T14:03:21.812755Z"
    },
    "papermill": {
     "duration": 0.016637,
     "end_time": "2023-04-14T14:03:21.816759",
     "exception": false,
     "start_time": "2023-04-14T14:03:21.800122",
     "status": "completed"
    },
    "tags": []
   },
   "outputs": [],
   "source": [
    "# TODO: Your code here\n",
    "unis = professors['Graduated from'].unique()\n",
    "unis.sort()\n"
   ]
  },
  {
   "cell_type": "markdown",
   "id": "065b273a",
   "metadata": {
    "papermill": {
     "duration": 0.004928,
     "end_time": "2023-04-14T14:03:21.826907",
     "exception": false,
     "start_time": "2023-04-14T14:03:21.821979",
     "status": "completed"
    },
    "tags": []
   },
   "source": [
    "Do you notice any inconsistencies in the data?  Can any of the inconsistencies in the data be fixed by removing white spaces at the beginning and end of cells?\n",
    "\n",
    "Once you have answered these questions, run the code cell below to get credit for your work."
   ]
  },
  {
   "cell_type": "code",
   "execution_count": 5,
   "id": "da36bd8b",
   "metadata": {
    "execution": {
     "iopub.execute_input": "2023-04-14T14:03:21.839630Z",
     "iopub.status.busy": "2023-04-14T14:03:21.838360Z",
     "iopub.status.idle": "2023-04-14T14:03:21.849383Z",
     "shell.execute_reply": "2023-04-14T14:03:21.848217Z"
    },
    "papermill": {
     "duration": 0.019812,
     "end_time": "2023-04-14T14:03:21.851695",
     "exception": false,
     "start_time": "2023-04-14T14:03:21.831883",
     "status": "completed"
    },
    "tags": []
   },
   "outputs": [
    {
     "data": {
      "application/javascript": [
       "parent.postMessage({\"jupyterEvent\": \"custom.exercise_interaction\", \"data\": {\"outcomeType\": 1, \"valueTowardsCompletion\": 0.3333333333333333, \"interactionType\": 1, \"questionType\": 4, \"questionId\": \"1_ExamineProvince\", \"learnToolsVersion\": \"0.3.4\", \"failureMessage\": \"\", \"exceptionClass\": \"\", \"trace\": \"\"}}, \"*\")"
      ],
      "text/plain": [
       "<IPython.core.display.Javascript object>"
      ]
     },
     "metadata": {},
     "output_type": "display_data"
    },
    {
     "data": {
      "text/markdown": [
       "<span style=\"color:#33cc33\">Correct:</span> \n",
       "\n",
       "There are inconsistencies that can be fixed by removing white spaces at the beginning and end of cells.  For instance, \"University of Central Florida\" and \" University of Central Florida\" both appear in the column."
      ],
      "text/plain": [
       "Correct: \n",
       "\n",
       "There are inconsistencies that can be fixed by removing white spaces at the beginning and end of cells.  For instance, \"University of Central Florida\" and \" University of Central Florida\" both appear in the column."
      ]
     },
     "metadata": {},
     "output_type": "display_data"
    }
   ],
   "source": [
    "# Check your answer (Run this code cell to receive credit!)\n",
    "q1.check()"
   ]
  },
  {
   "cell_type": "code",
   "execution_count": 6,
   "id": "3582019a",
   "metadata": {
    "execution": {
     "iopub.execute_input": "2023-04-14T14:03:21.864586Z",
     "iopub.status.busy": "2023-04-14T14:03:21.863611Z",
     "iopub.status.idle": "2023-04-14T14:03:21.868302Z",
     "shell.execute_reply": "2023-04-14T14:03:21.867463Z"
    },
    "papermill": {
     "duration": 0.01334,
     "end_time": "2023-04-14T14:03:21.870309",
     "exception": false,
     "start_time": "2023-04-14T14:03:21.856969",
     "status": "completed"
    },
    "tags": []
   },
   "outputs": [],
   "source": [
    "# Line below will give you a hint\n",
    "#q1.hint()"
   ]
  },
  {
   "cell_type": "markdown",
   "id": "50a23385",
   "metadata": {
    "papermill": {
     "duration": 0.004942,
     "end_time": "2023-04-14T14:03:21.881485",
     "exception": false,
     "start_time": "2023-04-14T14:03:21.876543",
     "status": "completed"
    },
    "tags": []
   },
   "source": [
    "# 2) Do some text pre-processing\n",
    "\n",
    "Convert every entry in the \"Graduated from\" column in the `professors` DataFrame to remove white spaces at the beginning and end of cells."
   ]
  },
  {
   "cell_type": "code",
   "execution_count": 7,
   "id": "b06c5af0",
   "metadata": {
    "execution": {
     "iopub.execute_input": "2023-04-14T14:03:21.895237Z",
     "iopub.status.busy": "2023-04-14T14:03:21.894337Z",
     "iopub.status.idle": "2023-04-14T14:03:21.909092Z",
     "shell.execute_reply": "2023-04-14T14:03:21.907641Z"
    },
    "papermill": {
     "duration": 0.024871,
     "end_time": "2023-04-14T14:03:21.911519",
     "exception": false,
     "start_time": "2023-04-14T14:03:21.886648",
     "status": "completed"
    },
    "tags": []
   },
   "outputs": [
    {
     "data": {
      "application/javascript": [
       "parent.postMessage({\"jupyterEvent\": \"custom.exercise_interaction\", \"data\": {\"outcomeType\": 1, \"valueTowardsCompletion\": 0.3333333333333333, \"interactionType\": 1, \"questionType\": 1, \"questionId\": \"2_TextProcessing\", \"learnToolsVersion\": \"0.3.4\", \"failureMessage\": \"\", \"exceptionClass\": \"\", \"trace\": \"\"}}, \"*\")"
      ],
      "text/plain": [
       "<IPython.core.display.Javascript object>"
      ]
     },
     "metadata": {},
     "output_type": "display_data"
    },
    {
     "data": {
      "text/markdown": [
       "<span style=\"color:#33cc33\">Correct</span>"
      ],
      "text/plain": [
       "Correct"
      ]
     },
     "metadata": {},
     "output_type": "display_data"
    }
   ],
   "source": [
    "# TODO: Your code here\n",
    "professors['Graduated from'] = professors['Graduated from'].str.strip()\n",
    "\n",
    "\n",
    "# Check your answer\n",
    "q2.check()"
   ]
  },
  {
   "cell_type": "code",
   "execution_count": 8,
   "id": "7b71f10c",
   "metadata": {
    "execution": {
     "iopub.execute_input": "2023-04-14T14:03:21.925106Z",
     "iopub.status.busy": "2023-04-14T14:03:21.924635Z",
     "iopub.status.idle": "2023-04-14T14:03:21.929668Z",
     "shell.execute_reply": "2023-04-14T14:03:21.928441Z"
    },
    "papermill": {
     "duration": 0.015008,
     "end_time": "2023-04-14T14:03:21.932150",
     "exception": false,
     "start_time": "2023-04-14T14:03:21.917142",
     "status": "completed"
    },
    "tags": []
   },
   "outputs": [],
   "source": [
    "# Lines below will give you a hint or solution code\n",
    "#q2.hint()\n",
    "#q2.solution()"
   ]
  },
  {
   "cell_type": "markdown",
   "id": "98ff1597",
   "metadata": {
    "papermill": {
     "duration": 0.005363,
     "end_time": "2023-04-14T14:03:21.943125",
     "exception": false,
     "start_time": "2023-04-14T14:03:21.937762",
     "status": "completed"
    },
    "tags": []
   },
   "source": [
    "# 3) Continue working with countries\n",
    "\n",
    "In the tutorial, we focused on cleaning up inconsistencies in the \"Country\" column.  Run the code cell below to view the list of unique values that we ended with."
   ]
  },
  {
   "cell_type": "code",
   "execution_count": 9,
   "id": "0e2138ec",
   "metadata": {
    "execution": {
     "iopub.execute_input": "2023-04-14T14:03:21.956788Z",
     "iopub.status.busy": "2023-04-14T14:03:21.956278Z",
     "iopub.status.idle": "2023-04-14T14:03:21.966805Z",
     "shell.execute_reply": "2023-04-14T14:03:21.965296Z"
    },
    "papermill": {
     "duration": 0.020613,
     "end_time": "2023-04-14T14:03:21.969448",
     "exception": false,
     "start_time": "2023-04-14T14:03:21.948835",
     "status": "completed"
    },
    "tags": []
   },
   "outputs": [
    {
     "data": {
      "text/plain": [
       "array(['australia', 'austria', 'canada', 'china', 'finland', 'france',\n",
       "       'germany', 'greece', 'hongkong', 'ireland', 'italy', 'japan',\n",
       "       'macau', 'malaysia', 'mauritius', 'netherland', 'new zealand',\n",
       "       'norway', 'pakistan', 'portugal', 'russian federation',\n",
       "       'saudi arabia', 'scotland', 'singapore', 'south korea', 'spain',\n",
       "       'sweden', 'thailand', 'turkey', 'uk', 'urbana', 'usa', 'usofa'],\n",
       "      dtype=object)"
      ]
     },
     "execution_count": 9,
     "metadata": {},
     "output_type": "execute_result"
    }
   ],
   "source": [
    "# get all the unique values in the 'City' column\n",
    "countries = professors['Country'].unique()\n",
    "\n",
    "# sort them alphabetically and then take a closer look\n",
    "countries.sort()\n",
    "countries"
   ]
  },
  {
   "cell_type": "markdown",
   "id": "f58d403d",
   "metadata": {
    "papermill": {
     "duration": 0.005804,
     "end_time": "2023-04-14T14:03:21.981537",
     "exception": false,
     "start_time": "2023-04-14T14:03:21.975733",
     "status": "completed"
    },
    "tags": []
   },
   "source": [
    "Take another look at the \"Country\" column and see if there's any more data cleaning we need to do.\n",
    "\n",
    "It looks like 'usa' and 'usofa' should be the same country.  Correct the \"Country\" column in the dataframe to replace 'usofa' with 'usa'.\n",
    "\n",
    "**Use the most recent version of the DataFrame (with the whitespaces at the beginning and end of cells removed) from question 2.**"
   ]
  },
  {
   "cell_type": "code",
   "execution_count": 10,
   "id": "3cbf2eaa",
   "metadata": {
    "execution": {
     "iopub.execute_input": "2023-04-14T14:03:21.996815Z",
     "iopub.status.busy": "2023-04-14T14:03:21.996186Z",
     "iopub.status.idle": "2023-04-14T14:03:22.012029Z",
     "shell.execute_reply": "2023-04-14T14:03:22.010596Z"
    },
    "papermill": {
     "duration": 0.026685,
     "end_time": "2023-04-14T14:03:22.014813",
     "exception": false,
     "start_time": "2023-04-14T14:03:21.988128",
     "status": "completed"
    },
    "tags": []
   },
   "outputs": [
    {
     "name": "stdout",
     "output_type": "stream",
     "text": [
      "All done!\n"
     ]
    },
    {
     "data": {
      "application/javascript": [
       "parent.postMessage({\"jupyterEvent\": \"custom.exercise_interaction\", \"data\": {\"outcomeType\": 1, \"valueTowardsCompletion\": 0.3333333333333333, \"interactionType\": 1, \"questionType\": 1, \"questionId\": \"3_WorkingWithCities\", \"learnToolsVersion\": \"0.3.4\", \"failureMessage\": \"\", \"exceptionClass\": \"\", \"trace\": \"\"}}, \"*\")"
      ],
      "text/plain": [
       "<IPython.core.display.Javascript object>"
      ]
     },
     "metadata": {},
     "output_type": "display_data"
    },
    {
     "data": {
      "text/markdown": [
       "<span style=\"color:#33cc33\">Correct</span>"
      ],
      "text/plain": [
       "Correct"
      ]
     },
     "metadata": {},
     "output_type": "display_data"
    }
   ],
   "source": [
    "# TODO: Your code here!\n",
    "matches = fuzzywuzzy.process.extract(\"usa\", countries, limit=10, scorer=fuzzywuzzy.fuzz.token_sort_ratio)\n",
    "replace_matches_in_column(df=professors, column='Country', string_to_match=\"usa\", min_ratio=70)\n",
    "# Check your answer\n",
    "q3.check()"
   ]
  },
  {
   "cell_type": "code",
   "execution_count": 11,
   "id": "ee89465b",
   "metadata": {
    "execution": {
     "iopub.execute_input": "2023-04-14T14:03:22.030252Z",
     "iopub.status.busy": "2023-04-14T14:03:22.029245Z",
     "iopub.status.idle": "2023-04-14T14:03:22.038034Z",
     "shell.execute_reply": "2023-04-14T14:03:22.036962Z"
    },
    "papermill": {
     "duration": 0.019271,
     "end_time": "2023-04-14T14:03:22.040467",
     "exception": false,
     "start_time": "2023-04-14T14:03:22.021196",
     "status": "completed"
    },
    "tags": []
   },
   "outputs": [
    {
     "data": {
      "application/javascript": [
       "parent.postMessage({\"jupyterEvent\": \"custom.exercise_interaction\", \"data\": {\"interactionType\": 2, \"questionType\": 1, \"questionId\": \"3_WorkingWithCities\", \"learnToolsVersion\": \"0.3.4\", \"valueTowardsCompletion\": 0.0, \"failureMessage\": \"\", \"exceptionClass\": \"\", \"trace\": \"\", \"outcomeType\": 4}}, \"*\")"
      ],
      "text/plain": [
       "<IPython.core.display.Javascript object>"
      ]
     },
     "metadata": {},
     "output_type": "display_data"
    },
    {
     "data": {
      "text/markdown": [
       "<span style=\"color:#3366cc\">Hint:</span> Use the `replace_matches_in_column()` function defined above."
      ],
      "text/plain": [
       "Hint: Use the `replace_matches_in_column()` function defined above."
      ]
     },
     "metadata": {},
     "output_type": "display_data"
    }
   ],
   "source": [
    "# Lines below will give you a hint or solution code\n",
    "q3.hint()\n",
    "#q3.solution()"
   ]
  },
  {
   "cell_type": "markdown",
   "id": "ac61ff4d",
   "metadata": {
    "papermill": {
     "duration": 0.006342,
     "end_time": "2023-04-14T14:03:22.053369",
     "exception": false,
     "start_time": "2023-04-14T14:03:22.047027",
     "status": "completed"
    },
    "tags": []
   },
   "source": [
    "# Congratulations!\n",
    "\n",
    "Congratulations for completing the **Data Cleaning** course on Kaggle Learn!\n",
    "\n",
    "To practice your new skills, you're encouraged to download and investigate some of [Kaggle's Datasets](https://www.kaggle.com/datasets)."
   ]
  },
  {
   "cell_type": "markdown",
   "id": "7bab0bb2",
   "metadata": {
    "papermill": {
     "duration": 0.006426,
     "end_time": "2023-04-14T14:03:22.066440",
     "exception": false,
     "start_time": "2023-04-14T14:03:22.060014",
     "status": "completed"
    },
    "tags": []
   },
   "source": [
    "---\n",
    "\n",
    "\n",
    "\n",
    "\n",
    "*Have questions or comments? Visit the [course discussion forum](https://www.kaggle.com/learn/data-cleaning/discussion) to chat with other learners.*"
   ]
  }
 ],
 "metadata": {
  "kernelspec": {
   "display_name": "Python 3",
   "language": "python",
   "name": "python3"
  },
  "language_info": {
   "codemirror_mode": {
    "name": "ipython",
    "version": 3
   },
   "file_extension": ".py",
   "mimetype": "text/x-python",
   "name": "python",
   "nbconvert_exporter": "python",
   "pygments_lexer": "ipython3",
   "version": "3.7.12"
  },
  "papermill": {
   "default_parameters": {},
   "duration": 11.401916,
   "end_time": "2023-04-14T14:03:22.695034",
   "environment_variables": {},
   "exception": null,
   "input_path": "__notebook__.ipynb",
   "output_path": "__notebook__.ipynb",
   "parameters": {},
   "start_time": "2023-04-14T14:03:11.293118",
   "version": "2.4.0"
  }
 },
 "nbformat": 4,
 "nbformat_minor": 5
}
